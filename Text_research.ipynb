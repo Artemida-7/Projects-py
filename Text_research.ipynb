{
  "nbformat": 4,
  "nbformat_minor": 0,
  "metadata": {
    "colab": {
      "provenance": [],
      "authorship_tag": "ABX9TyO25phAwNGJvuGYwd+SWWQk",
      "include_colab_link": true
    },
    "kernelspec": {
      "name": "python3",
      "display_name": "Python 3"
    },
    "language_info": {
      "name": "python"
    }
  },
  "cells": [
    {
      "cell_type": "markdown",
      "metadata": {
        "id": "view-in-github",
        "colab_type": "text"
      },
      "source": [
        "<a href=\"https://colab.research.google.com/github/Artemida-7/Projects-py/blob/main/Text_research.ipynb\" target=\"_parent\"><img src=\"https://colab.research.google.com/assets/colab-badge.svg\" alt=\"Open In Colab\"/></a>"
      ]
    },
    {
      "cell_type": "code",
      "execution_count": null,
      "metadata": {
        "id": "g8cVnDJjjR3l"
      },
      "outputs": [],
      "source": [
        "!pip install nltk"
      ]
    },
    {
      "cell_type": "code",
      "source": [
        "!git clone https://github.com/Artemida-7/Projects-py"
      ],
      "metadata": {
        "colab": {
          "base_uri": "https://localhost:8080/"
        },
        "id": "KJ3vuZ0joHvn",
        "outputId": "f5e1e2c5-ae7d-44c2-c055-1f8150e9739f"
      },
      "execution_count": 7,
      "outputs": [
        {
          "output_type": "stream",
          "name": "stdout",
          "text": [
            "Cloning into 'Projects-py'...\n",
            "remote: Enumerating objects: 9, done.\u001b[K\n",
            "remote: Counting objects: 100% (9/9), done.\u001b[K\n",
            "remote: Compressing objects: 100% (7/7), done.\u001b[K\n",
            "remote: Total 9 (delta 1), reused 0 (delta 0), pack-reused 0\u001b[K\n",
            "Receiving objects: 100% (9/9), 4.10 KiB | 1.37 MiB/s, done.\n",
            "Resolving deltas: 100% (1/1), done.\n"
          ]
        }
      ]
    },
    {
      "cell_type": "code",
      "source": [
        "import nltk\n",
        "from nltk.corpus import stopwords\n",
        "from nltk.tokenize import word_tokenize\n",
        "from nltk.stem import WordNetLemmatizer\n",
        "nltk.download('wordnet')\n",
        "nltk.download('punkt')"
      ],
      "metadata": {
        "id": "SHt04tU_klQA"
      },
      "execution_count": null,
      "outputs": []
    },
    {
      "cell_type": "code",
      "source": [
        "f = open(\"Projects-py/text.txt\", \"r\", encoding=\"utf-8\")"
      ],
      "metadata": {
        "id": "rd0AJsnbo7Tu"
      },
      "execution_count": 31,
      "outputs": []
    },
    {
      "cell_type": "code",
      "source": [
        "text = f.read()"
      ],
      "metadata": {
        "id": "VNNmmo8CpeP_"
      },
      "execution_count": 32,
      "outputs": []
    },
    {
      "cell_type": "code",
      "source": [
        "tokens = word_tokenize(text)"
      ],
      "metadata": {
        "id": "hAzHI9_TrCjc"
      },
      "execution_count": 33,
      "outputs": []
    },
    {
      "cell_type": "code",
      "source": [
        "print(tokens)"
      ],
      "metadata": {
        "colab": {
          "base_uri": "https://localhost:8080/"
        },
        "id": "UUWOQWIRtDBr",
        "outputId": "46ad83fd-a4f7-4ed8-8b1c-95d695c39194"
      },
      "execution_count": 35,
      "outputs": [
        {
          "output_type": "stream",
          "name": "stdout",
          "text": [
            "['Summer', 'is', 'a', 'time', 'for', 'vacations', '!', 'Every', 'year', 'I', 'spend', 'summer', 'with', 'my', 'family', 'and', 'friends', '.', 'I', 'usually', 'have', 'a', 'lot', 'of', 'free', 'time', 'in', 'summer', '.', 'I', 'play', 'football', 'with', 'my', 'father', 'and', 'little', 'sister', '.', 'We', 'often', 'go', 'to', 'the', 'countryside', 'to', 'swim', 'and', 'sunbathe', '.', 'We', 'make', 'barbecue', 'and', 'sometimes', 'sleep', 'in', 'the', 'tent', '.', 'Summer', 'evenings', 'are', 'warm', 'and', 'we', 'often', 'go', 'to', 'the', 'park', 'to', 'have', 'a', 'small', 'picnic', '.', 'We', 'play', 'board', 'games', ',', 'listen', 'to', 'music', 'and', 'sing', 'songs', '.', 'Sometimes', 'our', 'friends', 'come', 'with', 'us', 'and', 'we', 'play', 'volleyball', 'or', 'badminton', '.', 'I', 'like', 'to', 'take', 'photos', 'of', 'my', 'friends', 'and', 'family', '.']\n"
          ]
        }
      ]
    }
  ]
}