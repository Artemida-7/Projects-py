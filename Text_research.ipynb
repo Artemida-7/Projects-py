{
  "nbformat": 4,
  "nbformat_minor": 0,
  "metadata": {
    "colab": {
      "provenance": [],
      "authorship_tag": "ABX9TyOazALr/8L/BQPNV3ZBY4Iu",
      "include_colab_link": true
    },
    "kernelspec": {
      "name": "python3",
      "display_name": "Python 3"
    },
    "language_info": {
      "name": "python"
    }
  },
  "cells": [
    {
      "cell_type": "markdown",
      "metadata": {
        "id": "view-in-github",
        "colab_type": "text"
      },
      "source": [
        "<a href=\"https://colab.research.google.com/github/Artemida-7/Projects-py/blob/main/Text_research.ipynb\" target=\"_parent\"><img src=\"https://colab.research.google.com/assets/colab-badge.svg\" alt=\"Open In Colab\"/></a>"
      ]
    },
    {
      "cell_type": "code",
      "execution_count": 1,
      "metadata": {
        "id": "g8cVnDJjjR3l",
        "colab": {
          "base_uri": "https://localhost:8080/"
        },
        "outputId": "4f8121c1-0085-40e3-b2e8-f53e1c3e69b9"
      },
      "outputs": [
        {
          "output_type": "stream",
          "name": "stdout",
          "text": [
            "Requirement already satisfied: nltk in /usr/local/lib/python3.10/dist-packages (3.8.1)\n",
            "Requirement already satisfied: click in /usr/local/lib/python3.10/dist-packages (from nltk) (8.1.7)\n",
            "Requirement already satisfied: joblib in /usr/local/lib/python3.10/dist-packages (from nltk) (1.3.2)\n",
            "Requirement already satisfied: regex>=2021.8.3 in /usr/local/lib/python3.10/dist-packages (from nltk) (2023.12.25)\n",
            "Requirement already satisfied: tqdm in /usr/local/lib/python3.10/dist-packages (from nltk) (4.66.2)\n"
          ]
        }
      ],
      "source": [
        "!pip install nltk"
      ]
    },
    {
      "cell_type": "code",
      "source": [
        "!git clone https://github.com/Artemida-7/Projects-py"
      ],
      "metadata": {
        "colab": {
          "base_uri": "https://localhost:8080/"
        },
        "id": "KJ3vuZ0joHvn",
        "outputId": "d68953c1-156a-4ea9-9d0f-11a40911c797"
      },
      "execution_count": 2,
      "outputs": [
        {
          "output_type": "stream",
          "name": "stdout",
          "text": [
            "Cloning into 'Projects-py'...\n",
            "remote: Enumerating objects: 17, done.\u001b[K\n",
            "remote: Counting objects: 100% (17/17), done.\u001b[K\n",
            "remote: Compressing objects: 100% (15/15), done.\u001b[K\n",
            "remote: Total 17 (delta 8), reused 0 (delta 0), pack-reused 0\u001b[K\n",
            "Receiving objects: 100% (17/17), 6.71 KiB | 6.71 MiB/s, done.\n",
            "Resolving deltas: 100% (8/8), done.\n"
          ]
        }
      ]
    },
    {
      "cell_type": "code",
      "source": [
        "import nltk\n",
        "from nltk.corpus import stopwords\n",
        "from nltk.tokenize import word_tokenize\n",
        "from nltk.stem import WordNetLemmatizer\n",
        "nltk.download('wordnet')\n",
        "nltk.download('punkt')"
      ],
      "metadata": {
        "id": "SHt04tU_klQA",
        "colab": {
          "base_uri": "https://localhost:8080/"
        },
        "outputId": "7cf069ba-339c-4539-9670-c60b696b6038"
      },
      "execution_count": 3,
      "outputs": [
        {
          "output_type": "stream",
          "name": "stderr",
          "text": [
            "[nltk_data] Downloading package wordnet to /root/nltk_data...\n",
            "[nltk_data] Downloading package punkt to /root/nltk_data...\n",
            "[nltk_data]   Unzipping tokenizers/punkt.zip.\n"
          ]
        },
        {
          "output_type": "execute_result",
          "data": {
            "text/plain": [
              "True"
            ]
          },
          "metadata": {},
          "execution_count": 3
        }
      ]
    },
    {
      "cell_type": "code",
      "source": [
        "nltk.download('stopwords')"
      ],
      "metadata": {
        "colab": {
          "base_uri": "https://localhost:8080/"
        },
        "id": "cg_I0Y-c0Izm",
        "outputId": "6181ed2c-34d7-478f-ad1e-af1a6d705863"
      },
      "execution_count": 4,
      "outputs": [
        {
          "output_type": "stream",
          "name": "stderr",
          "text": [
            "[nltk_data] Downloading package stopwords to /root/nltk_data...\n",
            "[nltk_data]   Unzipping corpora/stopwords.zip.\n"
          ]
        },
        {
          "output_type": "execute_result",
          "data": {
            "text/plain": [
              "True"
            ]
          },
          "metadata": {},
          "execution_count": 4
        }
      ]
    },
    {
      "cell_type": "code",
      "source": [
        "f = open(\"Projects-py/text.txt\", \"r\", encoding=\"utf-8\")"
      ],
      "metadata": {
        "id": "rd0AJsnbo7Tu"
      },
      "execution_count": 5,
      "outputs": []
    },
    {
      "cell_type": "code",
      "source": [
        "text = f.read()"
      ],
      "metadata": {
        "id": "VNNmmo8CpeP_"
      },
      "execution_count": 6,
      "outputs": []
    },
    {
      "cell_type": "code",
      "source": [
        "tokens = word_tokenize(text)"
      ],
      "metadata": {
        "id": "hAzHI9_TrCjc"
      },
      "execution_count": 7,
      "outputs": []
    },
    {
      "cell_type": "code",
      "source": [
        "print(tokens)"
      ],
      "metadata": {
        "colab": {
          "base_uri": "https://localhost:8080/"
        },
        "id": "UUWOQWIRtDBr",
        "outputId": "96d7595f-b500-4fac-f658-d9773e81410a"
      },
      "execution_count": 8,
      "outputs": [
        {
          "output_type": "stream",
          "name": "stdout",
          "text": [
            "['Summer', 'is', 'a', 'time', 'for', 'vacations', '!', 'Every', 'year', 'I', 'spend', 'summer', 'with', 'my', 'family', 'and', 'friends', '.', 'I', 'usually', 'have', 'a', 'lot', 'of', 'free', 'time', 'in', 'summer', '.', 'I', 'play', 'football', 'with', 'my', 'father', 'and', 'little', 'sister', '.', 'We', 'often', 'go', 'to', 'the', 'countryside', 'to', 'swim', 'and', 'sunbathe', '.', 'We', 'make', 'barbecue', 'and', 'sometimes', 'sleep', 'in', 'the', 'tent', '.', 'Summer', 'evenings', 'are', 'warm', 'and', 'we', 'often', 'go', 'to', 'the', 'park', 'to', 'have', 'a', 'small', 'picnic', '.', 'We', 'play', 'board', 'games', ',', 'listen', 'to', 'music', 'and', 'sing', 'songs', '.', 'Sometimes', 'our', 'friends', 'come', 'with', 'us', 'and', 'we', 'play', 'volleyball', 'or', 'badminton', '.', 'I', 'like', 'to', 'take', 'photos', 'of', 'my', 'friends', 'and', 'family', '.']\n"
          ]
        }
      ]
    },
    {
      "cell_type": "code",
      "source": [
        "stop_words = set(stopwords.words('english'))\n",
        "filtered_tokens = [token for token in tokens if token.lower() not in stop_words]\n",
        "\n",
        "print(filtered_tokens)"
      ],
      "metadata": {
        "colab": {
          "base_uri": "https://localhost:8080/"
        },
        "id": "gTPx8mjxzzyo",
        "outputId": "db0e30c6-53a5-4dbb-adc8-34f51d7988a5"
      },
      "execution_count": 9,
      "outputs": [
        {
          "output_type": "stream",
          "name": "stdout",
          "text": [
            "['Summer', 'time', 'vacations', '!', 'Every', 'year', 'spend', 'summer', 'family', 'friends', '.', 'usually', 'lot', 'free', 'time', 'summer', '.', 'play', 'football', 'father', 'little', 'sister', '.', 'often', 'go', 'countryside', 'swim', 'sunbathe', '.', 'make', 'barbecue', 'sometimes', 'sleep', 'tent', '.', 'Summer', 'evenings', 'warm', 'often', 'go', 'park', 'small', 'picnic', '.', 'play', 'board', 'games', ',', 'listen', 'music', 'sing', 'songs', '.', 'Sometimes', 'friends', 'come', 'us', 'play', 'volleyball', 'badminton', '.', 'like', 'take', 'photos', 'friends', 'family', '.']\n"
          ]
        }
      ]
    },
    {
      "cell_type": "code",
      "source": [
        "lemmatizer = WordNetLemmatizer()\n",
        "lemmatized_tokens = [lemmatizer.lemmatize(token) for token in filtered_tokens]\n",
        "\n",
        "print(lemmatized_tokens)"
      ],
      "metadata": {
        "colab": {
          "base_uri": "https://localhost:8080/"
        },
        "id": "HVBNiIzs0pm8",
        "outputId": "23006bbb-9e62-4445-ceae-dd95f794e605"
      },
      "execution_count": 10,
      "outputs": [
        {
          "output_type": "stream",
          "name": "stdout",
          "text": [
            "['Summer', 'time', 'vacation', '!', 'Every', 'year', 'spend', 'summer', 'family', 'friend', '.', 'usually', 'lot', 'free', 'time', 'summer', '.', 'play', 'football', 'father', 'little', 'sister', '.', 'often', 'go', 'countryside', 'swim', 'sunbathe', '.', 'make', 'barbecue', 'sometimes', 'sleep', 'tent', '.', 'Summer', 'evening', 'warm', 'often', 'go', 'park', 'small', 'picnic', '.', 'play', 'board', 'game', ',', 'listen', 'music', 'sing', 'song', '.', 'Sometimes', 'friend', 'come', 'u', 'play', 'volleyball', 'badminton', '.', 'like', 'take', 'photo', 'friend', 'family', '.']\n"
          ]
        }
      ]
    },
    {
      "cell_type": "code",
      "source": [
        "text = text.lower()\n",
        "# подключаем встроенный модуль работы со строками\n",
        "import string\n",
        "# добавляем к стандартным знакам пунктуации кавычки и многоточие\n",
        "spec_chars = string.punctuation + '«»\\t—…’'\n",
        "# очищаем текст от знаков препинания\n",
        "text = \"\".join([ch for ch in text if ch not in spec_chars])\n",
        "# подключаем регулярные выражения\n",
        "import re\n",
        "# меняем переносы строк на пробелы\n",
        "text = re.sub('\\n', ' ', text)\n",
        "# убираем из текста цифры\n",
        "text = \"\".join([ch for ch in text if ch not in string.digits])\n",
        "# смотрим на результат\n",
        "print(text)"
      ],
      "metadata": {
        "colab": {
          "base_uri": "https://localhost:8080/"
        },
        "id": "lCsiZ7afUejD",
        "outputId": "c5a46c9e-144e-49f7-b594-7b8209b682f4"
      },
      "execution_count": 11,
      "outputs": [
        {
          "output_type": "stream",
          "name": "stdout",
          "text": [
            "summer is a time for vacations every year i spend summer with my family and friends  i usually have a lot of free time in summer i play football with my father and little sister we often go to the countryside to swim and sunbathe we make barbecue and sometimes sleep in the tent  summer evenings are warm and we often go to the park to have a small picnic we play board games listen to music and sing songs sometimes our friends come with us and we play volleyball or badminton i like to take photos of my friends and family\n"
          ]
        }
      ]
    },
    {
      "cell_type": "code",
      "source": [
        "tokens = word_tokenize(text)\n",
        "stop_words = set(stopwords.words('english'))\n",
        "filtered_tokens = [token for token in tokens if token.lower() not in stop_words]\n",
        "lemmatizer = WordNetLemmatizer()\n",
        "lemmatized_tokens = [lemmatizer.lemmatize(token) for token in filtered_tokens]\n",
        "print(lemmatized_tokens)"
      ],
      "metadata": {
        "colab": {
          "base_uri": "https://localhost:8080/"
        },
        "id": "ER_tVepfU4t-",
        "outputId": "4fc2f506-ce9a-40d8-98c5-c7ebe9264f04"
      },
      "execution_count": 12,
      "outputs": [
        {
          "output_type": "stream",
          "name": "stdout",
          "text": [
            "['summer', 'time', 'vacation', 'every', 'year', 'spend', 'summer', 'family', 'friend', 'usually', 'lot', 'free', 'time', 'summer', 'play', 'football', 'father', 'little', 'sister', 'often', 'go', 'countryside', 'swim', 'sunbathe', 'make', 'barbecue', 'sometimes', 'sleep', 'tent', 'summer', 'evening', 'warm', 'often', 'go', 'park', 'small', 'picnic', 'play', 'board', 'game', 'listen', 'music', 'sing', 'song', 'sometimes', 'friend', 'come', 'u', 'play', 'volleyball', 'badminton', 'like', 'take', 'photo', 'friend', 'family']\n"
          ]
        }
      ]
    },
    {
      "cell_type": "code",
      "source": [
        "text = nltk.Text(lemmatized_tokens)\n",
        "# подключаем статистику\n",
        "from nltk.probability import FreqDist\n",
        "# и считаем слова в тексте по популярности\n",
        "fdist = FreqDist(text)\n",
        "# выводим первые 5 популярных слов\n",
        "print(fdist.most_common(10))"
      ],
      "metadata": {
        "colab": {
          "base_uri": "https://localhost:8080/"
        },
        "id": "FVokse1sVVDY",
        "outputId": "41626784-bf35-4d80-f223-fd9300a369cc"
      },
      "execution_count": 16,
      "outputs": [
        {
          "output_type": "stream",
          "name": "stdout",
          "text": [
            "[('summer', 4), ('friend', 3), ('play', 3), ('time', 2), ('family', 2), ('often', 2), ('go', 2), ('sometimes', 2), ('vacation', 1), ('every', 1)]\n"
          ]
        }
      ]
    }
  ]
}