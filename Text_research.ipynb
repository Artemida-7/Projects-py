{
  "nbformat": 4,
  "nbformat_minor": 0,
  "metadata": {
    "colab": {
      "provenance": [],
      "authorship_tag": "ABX9TyNbrr16FQPFy5yrgazTL2gh",
      "include_colab_link": true
    },
    "kernelspec": {
      "name": "python3",
      "display_name": "Python 3"
    },
    "language_info": {
      "name": "python"
    }
  },
  "cells": [
    {
      "cell_type": "markdown",
      "metadata": {
        "id": "view-in-github",
        "colab_type": "text"
      },
      "source": [
        "<a href=\"https://colab.research.google.com/github/Artemida-7/Projects-py/blob/main/Text_research.ipynb\" target=\"_parent\"><img src=\"https://colab.research.google.com/assets/colab-badge.svg\" alt=\"Open In Colab\"/></a>"
      ]
    },
    {
      "cell_type": "code",
      "execution_count": 4,
      "metadata": {
        "id": "g8cVnDJjjR3l",
        "colab": {
          "base_uri": "https://localhost:8080/"
        },
        "outputId": "7d65b667-1292-44c9-d5d4-78df7244b625"
      },
      "outputs": [
        {
          "output_type": "stream",
          "name": "stdout",
          "text": [
            "Requirement already satisfied: nltk in /usr/local/lib/python3.10/dist-packages (3.8.1)\n",
            "Requirement already satisfied: click in /usr/local/lib/python3.10/dist-packages (from nltk) (8.1.7)\n",
            "Requirement already satisfied: joblib in /usr/local/lib/python3.10/dist-packages (from nltk) (1.3.2)\n",
            "Requirement already satisfied: regex>=2021.8.3 in /usr/local/lib/python3.10/dist-packages (from nltk) (2023.12.25)\n",
            "Requirement already satisfied: tqdm in /usr/local/lib/python3.10/dist-packages (from nltk) (4.66.2)\n"
          ]
        }
      ],
      "source": [
        "!pip install nltk"
      ]
    },
    {
      "cell_type": "code",
      "source": [
        "!git clone https://github.com/Artemida-7/Projects-py"
      ],
      "metadata": {
        "colab": {
          "base_uri": "https://localhost:8080/"
        },
        "id": "KJ3vuZ0joHvn",
        "outputId": "7e59de55-665c-4bd8-e3de-1bcf5dc27b2d"
      },
      "execution_count": 5,
      "outputs": [
        {
          "output_type": "stream",
          "name": "stdout",
          "text": [
            "fatal: destination path 'Projects-py' already exists and is not an empty directory.\n"
          ]
        }
      ]
    },
    {
      "cell_type": "code",
      "source": [
        "import nltk\n",
        "from nltk.corpus import stopwords\n",
        "from nltk.tokenize import word_tokenize\n",
        "from nltk.stem import WordNetLemmatizer\n",
        "nltk.download('wordnet')\n",
        "nltk.download('punkt')"
      ],
      "metadata": {
        "id": "SHt04tU_klQA",
        "colab": {
          "base_uri": "https://localhost:8080/"
        },
        "outputId": "16338337-0181-47c6-fe01-b8be0b98cfbe"
      },
      "execution_count": 6,
      "outputs": [
        {
          "output_type": "stream",
          "name": "stderr",
          "text": [
            "[nltk_data] Downloading package wordnet to /root/nltk_data...\n",
            "[nltk_data]   Package wordnet is already up-to-date!\n",
            "[nltk_data] Downloading package punkt to /root/nltk_data...\n",
            "[nltk_data]   Package punkt is already up-to-date!\n"
          ]
        },
        {
          "output_type": "execute_result",
          "data": {
            "text/plain": [
              "True"
            ]
          },
          "metadata": {},
          "execution_count": 6
        }
      ]
    },
    {
      "cell_type": "code",
      "source": [
        "nltk.download('stopwords')"
      ],
      "metadata": {
        "colab": {
          "base_uri": "https://localhost:8080/"
        },
        "id": "cg_I0Y-c0Izm",
        "outputId": "aee467e9-5736-40f7-94e6-5afce6d4ec38"
      },
      "execution_count": 7,
      "outputs": [
        {
          "output_type": "stream",
          "name": "stderr",
          "text": [
            "[nltk_data] Downloading package stopwords to /root/nltk_data...\n",
            "[nltk_data]   Package stopwords is already up-to-date!\n"
          ]
        },
        {
          "output_type": "execute_result",
          "data": {
            "text/plain": [
              "True"
            ]
          },
          "metadata": {},
          "execution_count": 7
        }
      ]
    },
    {
      "cell_type": "code",
      "source": [
        "f = open(\"Projects-py/text.txt\", \"r\", encoding=\"utf-8\")"
      ],
      "metadata": {
        "id": "rd0AJsnbo7Tu"
      },
      "execution_count": 8,
      "outputs": []
    },
    {
      "cell_type": "code",
      "source": [
        "text = f.read()"
      ],
      "metadata": {
        "id": "VNNmmo8CpeP_"
      },
      "execution_count": 9,
      "outputs": []
    },
    {
      "cell_type": "code",
      "source": [
        "tokens = word_tokenize(text)"
      ],
      "metadata": {
        "id": "hAzHI9_TrCjc"
      },
      "execution_count": 10,
      "outputs": []
    },
    {
      "cell_type": "code",
      "source": [
        "print(tokens)"
      ],
      "metadata": {
        "colab": {
          "base_uri": "https://localhost:8080/"
        },
        "id": "UUWOQWIRtDBr",
        "outputId": "ef4b4a0b-c6e7-40d7-98df-5354b800c9fe"
      },
      "execution_count": 11,
      "outputs": [
        {
          "output_type": "stream",
          "name": "stdout",
          "text": [
            "['Summer', 'is', 'a', 'time', 'for', 'vacations', '!', 'Every', 'year', 'I', 'spend', 'summer', 'with', 'my', 'family', 'and', 'friends', '.', 'I', 'usually', 'have', 'a', 'lot', 'of', 'free', 'time', 'in', 'summer', '.', 'I', 'play', 'football', 'with', 'my', 'father', 'and', 'little', 'sister', '.', 'We', 'often', 'go', 'to', 'the', 'countryside', 'to', 'swim', 'and', 'sunbathe', '.', 'We', 'make', 'barbecue', 'and', 'sometimes', 'sleep', 'in', 'the', 'tent', '.', 'Summer', 'evenings', 'are', 'warm', 'and', 'we', 'often', 'go', 'to', 'the', 'park', 'to', 'have', 'a', 'small', 'picnic', '.', 'We', 'play', 'board', 'games', ',', 'listen', 'to', 'music', 'and', 'sing', 'songs', '.', 'Sometimes', 'our', 'friends', 'come', 'with', 'us', 'and', 'we', 'play', 'volleyball', 'or', 'badminton', '.', 'I', 'like', 'to', 'take', 'photos', 'of', 'my', 'friends', 'and', 'family', '.']\n"
          ]
        }
      ]
    },
    {
      "cell_type": "code",
      "source": [
        "stop_words = set(stopwords.words('english'))\n",
        "filtered_tokens = [token for token in tokens if token.lower() not in stop_words]\n",
        "\n",
        "print(filtered_tokens)"
      ],
      "metadata": {
        "colab": {
          "base_uri": "https://localhost:8080/"
        },
        "id": "gTPx8mjxzzyo",
        "outputId": "167b685f-4145-4722-9a3e-6c5a8d2cc2c9"
      },
      "execution_count": 12,
      "outputs": [
        {
          "output_type": "stream",
          "name": "stdout",
          "text": [
            "['Summer', 'time', 'vacations', '!', 'Every', 'year', 'spend', 'summer', 'family', 'friends', '.', 'usually', 'lot', 'free', 'time', 'summer', '.', 'play', 'football', 'father', 'little', 'sister', '.', 'often', 'go', 'countryside', 'swim', 'sunbathe', '.', 'make', 'barbecue', 'sometimes', 'sleep', 'tent', '.', 'Summer', 'evenings', 'warm', 'often', 'go', 'park', 'small', 'picnic', '.', 'play', 'board', 'games', ',', 'listen', 'music', 'sing', 'songs', '.', 'Sometimes', 'friends', 'come', 'us', 'play', 'volleyball', 'badminton', '.', 'like', 'take', 'photos', 'friends', 'family', '.']\n"
          ]
        }
      ]
    },
    {
      "cell_type": "code",
      "source": [
        "lemmatizer = WordNetLemmatizer()\n",
        "lemmatized_tokens = [lemmatizer.lemmatize(token) for token in filtered_tokens]\n",
        "\n",
        "print(lemmatized_tokens)"
      ],
      "metadata": {
        "colab": {
          "base_uri": "https://localhost:8080/"
        },
        "id": "HVBNiIzs0pm8",
        "outputId": "780f2c6e-3e0d-41f3-e461-17542d0af662"
      },
      "execution_count": 13,
      "outputs": [
        {
          "output_type": "stream",
          "name": "stdout",
          "text": [
            "['Summer', 'time', 'vacation', '!', 'Every', 'year', 'spend', 'summer', 'family', 'friend', '.', 'usually', 'lot', 'free', 'time', 'summer', '.', 'play', 'football', 'father', 'little', 'sister', '.', 'often', 'go', 'countryside', 'swim', 'sunbathe', '.', 'make', 'barbecue', 'sometimes', 'sleep', 'tent', '.', 'Summer', 'evening', 'warm', 'often', 'go', 'park', 'small', 'picnic', '.', 'play', 'board', 'game', ',', 'listen', 'music', 'sing', 'song', '.', 'Sometimes', 'friend', 'come', 'u', 'play', 'volleyball', 'badminton', '.', 'like', 'take', 'photo', 'friend', 'family', '.']\n"
          ]
        }
      ]
    },
    {
      "cell_type": "code",
      "source": [
        "text = text.lower()\n",
        "# подключаем встроенный модуль работы со строками\n",
        "import string\n",
        "# добавляем к стандартным знакам пунктуации кавычки и многоточие\n",
        "spec_chars = string.punctuation + '«»\\t—…’'\n",
        "# очищаем текст от знаков препинания\n",
        "text = \"\".join([ch for ch in text if ch not in spec_chars])\n",
        "# подключаем регулярные выражения\n",
        "import re\n",
        "# меняем переносы строк на пробелы\n",
        "text = re.sub('\\n', ' ', text)\n",
        "# убираем из текста цифры\n",
        "text = \"\".join([ch for ch in text if ch not in string.digits])\n",
        "# смотрим на результат\n",
        "print(text)"
      ],
      "metadata": {
        "colab": {
          "base_uri": "https://localhost:8080/"
        },
        "id": "lCsiZ7afUejD",
        "outputId": "e46bf6a8-60e6-4d7c-e801-073603b9db8d"
      },
      "execution_count": 14,
      "outputs": [
        {
          "output_type": "stream",
          "name": "stdout",
          "text": [
            "summer is a time for vacations every year i spend summer with my family and friends  i usually have a lot of free time in summer i play football with my father and little sister we often go to the countryside to swim and sunbathe we make barbecue and sometimes sleep in the tent  summer evenings are warm and we often go to the park to have a small picnic we play board games listen to music and sing songs sometimes our friends come with us and we play volleyball or badminton i like to take photos of my friends and family\n"
          ]
        }
      ]
    },
    {
      "cell_type": "code",
      "source": [
        "tokens = word_tokenize(text)\n",
        "stop_words = set(stopwords.words('english'))\n",
        "filtered_tokens = [token for token in tokens if token.lower() not in stop_words]\n",
        "lemmatizer = WordNetLemmatizer()\n",
        "lemmatized_tokens = [lemmatizer.lemmatize(token) for token in filtered_tokens]\n",
        "print(lemmatized_tokens)"
      ],
      "metadata": {
        "colab": {
          "base_uri": "https://localhost:8080/"
        },
        "id": "ER_tVepfU4t-",
        "outputId": "838b25ee-3080-4294-c9f8-61b4de88aee6"
      },
      "execution_count": 15,
      "outputs": [
        {
          "output_type": "stream",
          "name": "stdout",
          "text": [
            "['summer', 'time', 'vacation', 'every', 'year', 'spend', 'summer', 'family', 'friend', 'usually', 'lot', 'free', 'time', 'summer', 'play', 'football', 'father', 'little', 'sister', 'often', 'go', 'countryside', 'swim', 'sunbathe', 'make', 'barbecue', 'sometimes', 'sleep', 'tent', 'summer', 'evening', 'warm', 'often', 'go', 'park', 'small', 'picnic', 'play', 'board', 'game', 'listen', 'music', 'sing', 'song', 'sometimes', 'friend', 'come', 'u', 'play', 'volleyball', 'badminton', 'like', 'take', 'photo', 'friend', 'family']\n"
          ]
        }
      ]
    },
    {
      "cell_type": "code",
      "source": [
        "text = nltk.Text(lemmatized_tokens)\n",
        "# подключаем статистику\n",
        "from nltk.probability import FreqDist\n",
        "# и считаем слова в тексте по популярности\n",
        "fdist = FreqDist(text)\n",
        "# выводим первые 5 популярных слов\n",
        "print(fdist.most_common(10))\n",
        "\n",
        "text_tanslate = list(fdist)\n",
        "\n",
        "print(text_tanslate)\n"
      ],
      "metadata": {
        "colab": {
          "base_uri": "https://localhost:8080/"
        },
        "id": "FVokse1sVVDY",
        "outputId": "35cfef1b-4003-4fb1-e415-9d658f0b3736"
      },
      "execution_count": 16,
      "outputs": [
        {
          "output_type": "stream",
          "name": "stdout",
          "text": [
            "[('summer', 4), ('friend', 3), ('play', 3), ('time', 2), ('family', 2), ('often', 2), ('go', 2), ('sometimes', 2), ('vacation', 1), ('every', 1)]\n",
            "['summer', 'friend', 'play', 'time', 'family', 'often', 'go', 'sometimes', 'vacation', 'every', 'year', 'spend', 'usually', 'lot', 'free', 'football', 'father', 'little', 'sister', 'countryside', 'swim', 'sunbathe', 'make', 'barbecue', 'sleep', 'tent', 'evening', 'warm', 'park', 'small', 'picnic', 'board', 'game', 'listen', 'music', 'sing', 'song', 'come', 'u', 'volleyball', 'badminton', 'like', 'take', 'photo']\n"
          ]
        }
      ]
    },
    {
      "cell_type": "code",
      "source": [
        "!pip install googletrans==3.1.0a0"
      ],
      "metadata": {
        "colab": {
          "base_uri": "https://localhost:8080/"
        },
        "id": "i_-o0uoHW4i9",
        "outputId": "c8d4b97b-0519-4538-a702-cd59b966415b"
      },
      "execution_count": 1,
      "outputs": [
        {
          "output_type": "stream",
          "name": "stdout",
          "text": [
            "Requirement already satisfied: googletrans==3.1.0a0 in /usr/local/lib/python3.10/dist-packages (3.1.0a0)\n",
            "Requirement already satisfied: httpx==0.13.3 in /usr/local/lib/python3.10/dist-packages (from googletrans==3.1.0a0) (0.13.3)\n",
            "Requirement already satisfied: certifi in /usr/local/lib/python3.10/dist-packages (from httpx==0.13.3->googletrans==3.1.0a0) (2024.2.2)\n",
            "Requirement already satisfied: hstspreload in /usr/local/lib/python3.10/dist-packages (from httpx==0.13.3->googletrans==3.1.0a0) (2024.3.1)\n",
            "Requirement already satisfied: sniffio in /usr/local/lib/python3.10/dist-packages (from httpx==0.13.3->googletrans==3.1.0a0) (1.3.1)\n",
            "Requirement already satisfied: chardet==3.* in /usr/local/lib/python3.10/dist-packages (from httpx==0.13.3->googletrans==3.1.0a0) (3.0.4)\n",
            "Requirement already satisfied: idna==2.* in /usr/local/lib/python3.10/dist-packages (from httpx==0.13.3->googletrans==3.1.0a0) (2.10)\n",
            "Requirement already satisfied: rfc3986<2,>=1.3 in /usr/local/lib/python3.10/dist-packages (from httpx==0.13.3->googletrans==3.1.0a0) (1.5.0)\n",
            "Requirement already satisfied: httpcore==0.9.* in /usr/local/lib/python3.10/dist-packages (from httpx==0.13.3->googletrans==3.1.0a0) (0.9.1)\n",
            "Requirement already satisfied: h11<0.10,>=0.8 in /usr/local/lib/python3.10/dist-packages (from httpcore==0.9.*->httpx==0.13.3->googletrans==3.1.0a0) (0.9.0)\n",
            "Requirement already satisfied: h2==3.* in /usr/local/lib/python3.10/dist-packages (from httpcore==0.9.*->httpx==0.13.3->googletrans==3.1.0a0) (3.2.0)\n",
            "Requirement already satisfied: hyperframe<6,>=5.2.0 in /usr/local/lib/python3.10/dist-packages (from h2==3.*->httpcore==0.9.*->httpx==0.13.3->googletrans==3.1.0a0) (5.2.0)\n",
            "Requirement already satisfied: hpack<4,>=3.0 in /usr/local/lib/python3.10/dist-packages (from h2==3.*->httpcore==0.9.*->httpx==0.13.3->googletrans==3.1.0a0) (3.0.0)\n"
          ]
        }
      ]
    },
    {
      "cell_type": "code",
      "source": [
        "from googletrans import Translator\n",
        "translator = Translator()\n",
        "\n",
        "translations = translator.translate(text_tanslate, dest='ru')\n",
        "for translation in translations:\n",
        "    #print(translation.origin, ' -> ', translation.text)\n",
        "\n",
        "    dict_sample = {translation.origin, translation.text}\n",
        "    print(dict_sample)"
      ],
      "metadata": {
        "colab": {
          "base_uri": "https://localhost:8080/"
        },
        "id": "h6w09vj_XRAD",
        "outputId": "5b0eaa75-d3f5-42eb-beec-278441afae88"
      },
      "execution_count": 19,
      "outputs": [
        {
          "output_type": "stream",
          "name": "stdout",
          "text": [
            "{'лето', 'summer'}\n",
            "{'друг', 'friend'}\n",
            "{'play', 'играть'}\n",
            "{'time', 'время'}\n",
            "{'family', 'семья'}\n",
            "{'often', 'часто'}\n",
            "{'go', 'идти'}\n",
            "{'иногда', 'sometimes'}\n",
            "{'vacation', 'отпуск'}\n",
            "{'every', 'каждый'}\n",
            "{'year', 'год'}\n",
            "{'spend', 'тратить'}\n",
            "{'обычно', 'usually'}\n",
            "{'много', 'lot'}\n",
            "{'free', 'бесплатно'}\n",
            "{'футбол', 'football'}\n",
            "{'father', 'отец'}\n",
            "{'little', 'маленький'}\n",
            "{'sister', 'сестра'}\n",
            "{'сельская местность', 'countryside'}\n",
            "{'swim', 'плавать'}\n",
            "{'загорать', 'sunbathe'}\n",
            "{'make', 'делать'}\n",
            "{'барбекю', 'barbecue'}\n",
            "{'спать', 'sleep'}\n",
            "{'tent', 'палатка'}\n",
            "{'вечер', 'evening'}\n",
            "{'warm', 'теплый'}\n",
            "{'park', 'парк'}\n",
            "{'маленький', 'small'}\n",
            "{'picnic', 'пикник'}\n",
            "{'доска', 'board'}\n",
            "{'игра', 'game'}\n",
            "{'слушать', 'listen'}\n",
            "{'music', 'музыка'}\n",
            "{'петь', 'sing'}\n",
            "{'song', 'песня'}\n",
            "{'come', 'приходить'}\n",
            "{'в', 'u'}\n",
            "{'volleyball', 'волейбол'}\n",
            "{'бадминтон', 'badminton'}\n",
            "{'like', 'нравиться'}\n",
            "{'take', 'брать'}\n",
            "{'Фото', 'photo'}\n"
          ]
        }
      ]
    }
  ]
}